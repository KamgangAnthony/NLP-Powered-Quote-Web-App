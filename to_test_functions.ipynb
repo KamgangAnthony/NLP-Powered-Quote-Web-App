{
 "cells": [
  {
   "cell_type": "code",
   "execution_count": 89,
   "metadata": {
    "collapsed": true,
    "pycharm": {
     "name": "#%%\n"
    }
   },
   "outputs": [],
   "source": [
    "import pandas as pd\n",
    "import numpy as np\n",
    "from random import randrange\n",
    "import nltk\n",
    "from vaderSentiment.vaderSentiment import SentimentIntensityAnalyzer\n",
    "from nltk.sentiment.vader import SentimentIntensityAnalyzer\n",
    "import requests"
   ]
  },
  {
   "cell_type": "code",
   "execution_count": 82,
   "outputs": [
    {
     "data": {
      "text/plain": "                  author                                              quote\n0         Michael Jordan  I've missed more than 9000 shots in my career....\n1    Henry David Thoreau  Many men go fishing all of their lives without...\n2         Vince Lombardi         Winners never quit and quitters never win.\n3              Babe Ruth  The way a team plays as a whole determines its...\n4             Bob Feller  Every day is a new opportunity. You can build ...\n..                   ...                                                ...\n105    Winston Churchill                 History is written by the victors.\n106    Winston Churchill  The farther backward you can look, the farther...\n107    Winston Churchill  I am an optimist. It does not seem too much us...\n108    Winston Churchill  It is no use saying, 'We are doing our best.' ...\n109    Winston Churchill  Russia is a riddle wrapped in a mystery inside...\n\n[110 rows x 2 columns]",
      "text/html": "<div>\n<style scoped>\n    .dataframe tbody tr th:only-of-type {\n        vertical-align: middle;\n    }\n\n    .dataframe tbody tr th {\n        vertical-align: top;\n    }\n\n    .dataframe thead th {\n        text-align: right;\n    }\n</style>\n<table border=\"1\" class=\"dataframe\">\n  <thead>\n    <tr style=\"text-align: right;\">\n      <th></th>\n      <th>author</th>\n      <th>quote</th>\n    </tr>\n  </thead>\n  <tbody>\n    <tr>\n      <th>0</th>\n      <td>Michael Jordan</td>\n      <td>I've missed more than 9000 shots in my career....</td>\n    </tr>\n    <tr>\n      <th>1</th>\n      <td>Henry David Thoreau</td>\n      <td>Many men go fishing all of their lives without...</td>\n    </tr>\n    <tr>\n      <th>2</th>\n      <td>Vince Lombardi</td>\n      <td>Winners never quit and quitters never win.</td>\n    </tr>\n    <tr>\n      <th>3</th>\n      <td>Babe Ruth</td>\n      <td>The way a team plays as a whole determines its...</td>\n    </tr>\n    <tr>\n      <th>4</th>\n      <td>Bob Feller</td>\n      <td>Every day is a new opportunity. You can build ...</td>\n    </tr>\n    <tr>\n      <th>...</th>\n      <td>...</td>\n      <td>...</td>\n    </tr>\n    <tr>\n      <th>105</th>\n      <td>Winston Churchill</td>\n      <td>History is written by the victors.</td>\n    </tr>\n    <tr>\n      <th>106</th>\n      <td>Winston Churchill</td>\n      <td>The farther backward you can look, the farther...</td>\n    </tr>\n    <tr>\n      <th>107</th>\n      <td>Winston Churchill</td>\n      <td>I am an optimist. It does not seem too much us...</td>\n    </tr>\n    <tr>\n      <th>108</th>\n      <td>Winston Churchill</td>\n      <td>It is no use saying, 'We are doing our best.' ...</td>\n    </tr>\n    <tr>\n      <th>109</th>\n      <td>Winston Churchill</td>\n      <td>Russia is a riddle wrapped in a mystery inside...</td>\n    </tr>\n  </tbody>\n</table>\n<p>110 rows × 2 columns</p>\n</div>"
     },
     "execution_count": 82,
     "metadata": {},
     "output_type": "execute_result"
    }
   ],
   "source": [],
   "metadata": {
    "collapsed": false,
    "pycharm": {
     "name": "#%%\n"
    }
   }
  },
  {
   "cell_type": "code",
   "execution_count": 75,
   "outputs": [
    {
     "data": {
      "text/plain": "200"
     },
     "execution_count": 75,
     "metadata": {},
     "output_type": "execute_result"
    }
   ],
   "source": [
    "# Defining the url of the site\n",
    "base_site = \"http://api.quotable.io/quotes?limit=110&maxLength=262\"\n",
    "\n",
    "# Making a get request\n",
    "response = requests.get(base_site)\n",
    "response.status_code\n"
   ],
   "metadata": {
    "collapsed": false,
    "pycharm": {
     "name": "#%%\n"
    }
   }
  },
  {
   "cell_type": "code",
   "execution_count": 76,
   "outputs": [
    {
     "data": {
      "text/plain": "{'count': 110,\n 'totalCount': 2031,\n 'page': 1,\n 'totalPages': 19,\n 'lastItemIndex': 110,\n 'results': [{'_id': 'JIk3cbQ8s',\n   'author': 'Michael Jordan',\n   'content': \"I've missed more than 9000 shots in my career. I've lost almost 300 games. 26 times, I've been trusted to take the game winning shot and missed. I've failed over and over and over again in my life. And that is why I succeed.\",\n   'tags': ['sports', 'competition', 'famous-quotes'],\n   'authorSlug': 'michael-jordan',\n   'length': 224,\n   'dateAdded': '2022-07-06',\n   'dateModified': '2022-07-08'},\n  {'_id': 'JRmne2RXYn',\n   'author': 'Henry David Thoreau',\n   'content': 'Many men go fishing all of their lives without knowing that it is not fish they are after.',\n   'tags': ['sports', 'competition'],\n   'authorSlug': 'henry-david-thoreau',\n   'length': 90,\n   'dateAdded': '2022-07-06',\n   'dateModified': '2022-07-08'},\n  {'_id': '0Ny0rPtnM3',\n   'author': 'Vince Lombardi',\n   'content': 'Winners never quit and quitters never win.',\n   'tags': ['sports', 'competition'],\n   'authorSlug': 'vince-lombardi',\n   'length': 42,\n   'dateAdded': '2022-07-06',\n   'dateModified': '2022-07-08'},\n  {'_id': 'l0LfTgApB3',\n   'author': 'Babe Ruth',\n   'content': \"The way a team plays as a whole determines its success. You may have the greatest bunch of individual stars in the world, but if they don't play together, the club won't be worth a dime.\",\n   'tags': ['sports', 'competition'],\n   'authorSlug': 'babe-ruth',\n   'length': 186,\n   'dateAdded': '2022-07-06',\n   'dateModified': '2022-07-08'},\n  {'_id': 'wNd1PnDiIN',\n   'author': 'Bob Feller',\n   'content': \"Every day is a new opportunity. You can build on yesterday's success or put its failures behind and start over again. That's the way life is, with a new game every day, and that's the way baseball is.\",\n   'tags': ['sports', 'competition'],\n   'authorSlug': 'bob-feller',\n   'length': 200,\n   'dateAdded': '2022-07-06',\n   'dateModified': '2022-07-08'},\n  {'_id': '9aunKqSWDu',\n   'author': 'Dan Gable',\n   'content': \"Gold medals aren't really made of gold. They're made of sweat, determination, and a hard-to-find alloy called guts.\",\n   'tags': ['sports', 'competition'],\n   'authorSlug': 'dan-gable',\n   'length': 115,\n   'dateAdded': '2022-07-06',\n   'dateModified': '2022-07-08'},\n  {'_id': '-fGobZrnsR',\n   'author': 'Bobby Unser',\n   'content': 'Success is where preparation and opportunity meet.',\n   'tags': ['sports', 'competition'],\n   'authorSlug': 'bobby-unser',\n   'length': 50,\n   'dateAdded': '2022-07-06',\n   'dateModified': '2022-07-08'},\n  {'_id': 'nAOVUhK6RJ',\n   'author': 'Kareem Abdul-Jabbar',\n   'content': \"You can't win unless you learn how to lose.\",\n   'tags': ['sports', 'competition'],\n   'authorSlug': 'kareem-abdul-jabbar',\n   'length': 43,\n   'dateAdded': '2022-07-06',\n   'dateModified': '2022-07-08'},\n  {'_id': 'Rqv9duD-Lc',\n   'author': 'Barry Switzer',\n   'content': 'Some people are born on third base and go through life thinking they hit a triple.',\n   'tags': ['sports', 'competition'],\n   'authorSlug': 'barry-switzer',\n   'length': 82,\n   'dateAdded': '2022-07-06',\n   'dateModified': '2022-07-08'},\n  {'_id': 'vtzyn3LKIA',\n   'author': 'Wayne Gretzky',\n   'content': 'A good hockey player plays where the puck is. A great hockey player plays where the puck is going to be.',\n   'tags': ['sports', 'competition'],\n   'authorSlug': 'wayne-gretzky',\n   'length': 104,\n   'dateAdded': '2022-07-06',\n   'dateModified': '2022-07-08'},\n  {'_id': 'fwMKi2Q0Pk',\n   'author': 'Michael Phelps',\n   'content': \"You can't put a limit on anything. The more you dream, the farther you get.\",\n   'tags': ['sports', 'competition'],\n   'authorSlug': 'michael-phelps',\n   'length': 75,\n   'dateAdded': '2022-07-06',\n   'dateModified': '2022-07-08'},\n  {'_id': 'v88YjiHVIp',\n   'author': 'Mia Hamm',\n   'content': 'I am building a fire, and everyday I train, I add more fuel. At just the right moment, I light the match.',\n   'tags': ['sports', 'competition'],\n   'authorSlug': 'mia-hamm',\n   'length': 105,\n   'dateAdded': '2022-07-06',\n   'dateModified': '2022-07-08'},\n  {'_id': 'Wp2A_oOWNEq',\n   'author': 'Muhammad Ali',\n   'content': \"It's just a job. Grass grows, birds fly, waves pound the sand. I beat people up.\",\n   'tags': ['sports'],\n   'authorSlug': 'muhammad-ali',\n   'length': 80,\n   'dateAdded': '2022-07-06',\n   'dateModified': '2022-07-08'},\n  {'_id': 'vZ-5DQPCJag',\n   'author': 'George Orwell',\n   'content': 'Serious sport has nothing to do with fair play. It is bound up with hatred, jealousy, boastfulness, disregard of all rules and sadistic pleasure in witnessing violence. In other words, it is war minus the shooting.',\n   'tags': ['sports'],\n   'authorSlug': 'george-orwell',\n   'length': 214,\n   'dateAdded': '2022-07-06',\n   'dateModified': '2022-07-08'},\n  {'_id': 'x-0qEVIZ66n',\n   'author': 'Eric Liddell',\n   'content': 'God made me fast. And when I run, I feel His pleasure.',\n   'tags': ['sports', 'competition'],\n   'authorSlug': 'eric-liddell',\n   'length': 54,\n   'dateAdded': '2022-07-06',\n   'dateModified': '2022-07-08'},\n  {'_id': 'lpxXplIA4ie',\n   'author': 'Yogi Berra',\n   'content': \"Half the lies they tell about me aren't true.\",\n   'tags': ['sports', 'competition'],\n   'authorSlug': 'yogi-berra',\n   'length': 45,\n   'dateAdded': '2022-07-06',\n   'dateModified': '2022-07-08'},\n  {'_id': 'eF07T22v0Te',\n   'author': 'P. G. Wodehouse',\n   'content': \"To find a man's true character, play golf with him.\",\n   'tags': ['sports', 'competition'],\n   'authorSlug': 'p-g-wodehouse',\n   'length': 51,\n   'dateAdded': '2022-07-06',\n   'dateModified': '2022-07-08'},\n  {'_id': 'r7qJ-YKIq2e',\n   'author': 'Earl Monroe',\n   'content': \"Just be patient. Let the game come to you. Don't rush. Be quick, but don't hurry.\",\n   'tags': ['sports', 'competition'],\n   'authorSlug': 'earl-monroe',\n   'length': 81,\n   'dateAdded': '2022-07-06',\n   'dateModified': '2022-07-08'},\n  {'_id': 'Gtt0T3mfPbx',\n   'author': 'Billie Jean King',\n   'content': 'Champions keep playing until they get it right.',\n   'tags': ['sports', 'competition'],\n   'authorSlug': 'billie-jean-king',\n   'length': 47,\n   'dateAdded': '2022-07-06',\n   'dateModified': '2022-07-08'},\n  {'_id': 'bcHXRb64gZH',\n   'author': 'Heywood Broun',\n   'content': 'Sports do not build character. They reveal it.',\n   'tags': ['sports', 'competition'],\n   'authorSlug': 'heywood-broun',\n   'length': 46,\n   'dateAdded': '2022-07-06',\n   'dateModified': '2022-07-08'},\n  {'_id': '_rEPkuDXaWo',\n   'author': 'Casey Stengel',\n   'content': 'Finding good players is easy. Getting them to play as a team is another story.',\n   'tags': ['sports', 'competition'],\n   'authorSlug': 'casey-stengel',\n   'length': 78,\n   'dateAdded': '2022-07-06',\n   'dateModified': '2022-07-08'},\n  {'_id': 'Hpo_qh-q76A',\n   'author': 'Reggie Jackson (basketball, born 1990)',\n   'content': \"Fans don't boo nobodies.\",\n   'tags': ['sports', 'competition'],\n   'authorSlug': 'reggie-jackson-basketball-born-1990',\n   'length': 24,\n   'dateAdded': '2022-07-06',\n   'dateModified': '2022-07-08'},\n  {'_id': 'MNoB9t3dfeS',\n   'author': \"Shaquille O'Neal\",\n   'content': \"I'm tired of hearing about money, money, money, money, money. I just want to play the game, drink Pepsi, and wear Reebok.\",\n   'tags': ['sports', 'humorous'],\n   'authorSlug': 'shaquille-o-neal',\n   'length': 121,\n   'dateAdded': '2022-07-06',\n   'dateModified': '2022-07-08'},\n  {'_id': 'scBvf0Y5W3B',\n   'author': 'Ian Botham',\n   'content': \"To me, it doesn't matter how good you are. Sport is all about playing and competing. Whatever you do in cricket and in sport, enjoy it, be positive and try to win.\",\n   'tags': ['sports', 'competition'],\n   'authorSlug': 'ian-botham',\n   'length': 163,\n   'dateAdded': '2022-07-06',\n   'dateModified': '2022-07-08'},\n  {'_id': 'NIMf1RxZS1N',\n   'author': 'Knute Rockne',\n   'content': 'One man practicing sportsmanship is far better than a hundred teaching it.',\n   'tags': ['sports', 'competition'],\n   'authorSlug': 'knute-rockne',\n   'length': 74,\n   'dateAdded': '2022-07-06',\n   'dateModified': '2022-07-08'},\n  {'_id': '3KGpfidF22D',\n   'author': 'William James',\n   'content': \"Most people never run far enough on their first wind to find out they've got a second.\",\n   'tags': ['sports', 'competition'],\n   'authorSlug': 'william-james',\n   'length': 86,\n   'dateAdded': '2022-07-06',\n   'dateModified': '2022-07-08'},\n  {'_id': '2wnTElJ9STU',\n   'author': 'Hank Aaron',\n   'content': 'My motto was always to keep swinging. Whether I was in a slump or feeling badly or having trouble off the field, the only thing to do was keep swinging.',\n   'tags': ['sports', 'competition'],\n   'authorSlug': 'hank-aaron',\n   'length': 152,\n   'dateAdded': '2022-07-06',\n   'dateModified': '2022-07-08'},\n  {'_id': 'J471lzY_ZWf',\n   'author': 'Jim Bouton',\n   'content': 'You spend a good piece of your life gripping a baseball and in the end it turns out that it was the other way around all the time.',\n   'tags': ['sports', 'competition'],\n   'authorSlug': 'jim-bouton',\n   'length': 130,\n   'dateAdded': '2022-07-06',\n   'dateModified': '2022-07-08'},\n  {'_id': 'AxNf6c-G_KI',\n   'author': 'Rogers Hornsby',\n   'content': \"People ask me what I do in winter when there's no baseball. I'll tell you what I do. I stare out the window and wait for spring.\",\n   'tags': ['sports', 'competition'],\n   'authorSlug': 'rogers-hornsby',\n   'length': 128,\n   'dateAdded': '2022-07-06',\n   'dateModified': '2022-07-08'},\n  {'_id': '81hjl4B9wx2',\n   'author': 'Ernie Banks',\n   'content': \"The only way to prove that you're a good sport is to lose.\",\n   'tags': ['sports', 'competition'],\n   'authorSlug': 'ernie-banks',\n   'length': 58,\n   'dateAdded': '2022-07-06',\n   'dateModified': '2022-07-08'},\n  {'_id': '0p8bgUAkaWj',\n   'author': 'Sandy Koufax',\n   'content': 'Pitching is the art of instilling fear.',\n   'tags': ['sports', 'competition'],\n   'authorSlug': 'sandy-koufax',\n   'length': 39,\n   'dateAdded': '2022-07-06',\n   'dateModified': '2022-07-08'},\n  {'_id': 'I4MksjS5zey',\n   'author': 'Carl Lewis',\n   'content': 'Life is about timing.',\n   'tags': ['sports', 'competition'],\n   'authorSlug': 'carl-lewis',\n   'length': 21,\n   'dateAdded': '2022-07-06',\n   'dateModified': '2022-07-08'},\n  {'_id': 'gZMl2CrQvRQ',\n   'author': 'Ted Williams',\n   'content': 'Baseball is the only field of endeavor where a man can succeed three times out of ten and be considered a good performer.',\n   'tags': ['sports', 'competition'],\n   'authorSlug': 'ted-williams',\n   'length': 121,\n   'dateAdded': '2022-07-06',\n   'dateModified': '2022-07-08'},\n  {'_id': 'xYHasPkPjV7',\n   'author': 'Robert Griffin III',\n   'content': 'Football is football and talent is talent. But the mindset of your team makes all the difference.',\n   'tags': ['sports', 'competition'],\n   'authorSlug': 'robert-griffin-iii',\n   'length': 97,\n   'dateAdded': '2022-07-06',\n   'dateModified': '2022-07-08'},\n  {'_id': '-5LundE5jXD',\n   'author': 'Erma Bombeck',\n   'content': 'If a man watches three football games in a row, he should be declared legally dead.',\n   'tags': ['sports', 'humorous'],\n   'authorSlug': 'erma-bombeck',\n   'length': 83,\n   'dateAdded': '2022-07-06',\n   'dateModified': '2022-07-08'},\n  {'_id': 'ch-0pti9X6U',\n   'author': 'Joe Adcock',\n   'content': 'Trying to sneak a fastball past Hank Aaron is like trying to sneak the sunrise past a rooster.',\n   'tags': ['sports', 'competition'],\n   'authorSlug': 'joe-adcock',\n   'length': 94,\n   'dateAdded': '2022-07-06',\n   'dateModified': '2022-07-08'},\n  {'_id': 'MsGmNTCtAXd',\n   'author': 'Mike Singletary (basketball)',\n   'content': 'Do you know what my favorite part of the game is? The opportunity to play.',\n   'tags': ['sports', 'competition'],\n   'authorSlug': 'mike-singletary-basketball',\n   'length': 74,\n   'dateAdded': '2022-07-06',\n   'dateModified': '2022-07-08'},\n  {'_id': 'lTm3ZNHDrh7',\n   'author': 'Bob Knight',\n   'content': \"You don't play against opponents, you play against the game of basketball.\",\n   'tags': ['sports', 'competition'],\n   'authorSlug': 'bob-knight',\n   'length': 74,\n   'dateAdded': '2022-07-06',\n   'dateModified': '2022-07-08'},\n  {'_id': 'gUYV-XJG60p',\n   'author': 'Woodrow Wilson',\n   'content': 'Golf is a game in which one endeavors to control a ball with implements ill adapted for the purpose.',\n   'tags': ['sports', 'competition'],\n   'authorSlug': 'woodrow-wilson',\n   'length': 100,\n   'dateAdded': '2022-07-06',\n   'dateModified': '2022-07-08'},\n  {'_id': 'l1g_brfDMZy',\n   'author': 'Billie Jean King',\n   'content': 'Tennis is a perfect combination of violent action taking place in an atmosphere of total tranquillity.',\n   'tags': ['sports', 'competition'],\n   'authorSlug': 'billie-jean-king',\n   'length': 102,\n   'dateAdded': '2022-07-06',\n   'dateModified': '2022-07-08'},\n  {'_id': 'Yul4uqMwfA1',\n   'author': 'Arnold Palmer',\n   'content': 'What other people may find in poetry or art museums, I find in the flight of a good drive.',\n   'tags': ['sports', 'competition'],\n   'authorSlug': 'arnold-palmer',\n   'length': 90,\n   'dateAdded': '2022-07-06',\n   'dateModified': '2022-07-08'},\n  {'_id': 'Nr6_kltWU8x',\n   'author': 'Hugo Black',\n   'content': \"When I was 40, my doctor advised me that a man in his 40s shouldn't play tennis. I heeded his advice carefully and could hardly wait until I reached 50 to start again.\",\n   'tags': ['sports', 'humorous'],\n   'authorSlug': 'hugo-black',\n   'length': 167,\n   'dateAdded': '2022-07-06',\n   'dateModified': '2022-07-08'},\n  {'_id': 'S78ad3jDcyA',\n   'author': 'John Madden',\n   'content': 'The fewer rules a coach has, the fewer rules there are for players to break.',\n   'tags': ['sports', 'competition'],\n   'authorSlug': 'john-madden',\n   'length': 76,\n   'dateAdded': '2022-07-06',\n   'dateModified': '2022-07-08'},\n  {'_id': 'uPuUG-KkA',\n   'author': 'Mark Twain',\n   'content': 'Whenever you find yourself on the side of the majority, it is time to pause and reflect.',\n   'tags': ['business'],\n   'authorSlug': 'mark-twain',\n   'length': 88,\n   'dateAdded': '2022-07-06',\n   'dateModified': '2022-07-06'},\n  {'_id': 'mdzzSdP_dF',\n   'author': 'Colin Powell',\n   'content': 'There are no secrets to success. It is the result of preparation, hard work, and learning from failure.',\n   'tags': ['success'],\n   'authorSlug': 'colin-powell',\n   'length': 103,\n   'dateAdded': '2022-07-06',\n   'dateModified': '2022-07-08'},\n  {'_id': 'oPuec6Zts4',\n   'author': 'Seneca the Younger',\n   'content': 'If one does not know to which port one is sailing, no wind is favorable.',\n   'tags': ['wisdom'],\n   'authorSlug': 'seneca-the-younger',\n   'length': 72,\n   'dateAdded': '2022-07-06',\n   'dateModified': '2022-07-08'},\n  {'_id': 'CEURHvpb3u',\n   'author': 'J. Paul Getty',\n   'content': \"If you owe the bank $100 that's your problem. If you owe the bank $100 million, that's the bank's problem.\",\n   'tags': ['business'],\n   'authorSlug': 'j-paul-getty',\n   'length': 106,\n   'dateAdded': '2022-07-06',\n   'dateModified': '2022-07-06'},\n  {'_id': 'Z1z6kZ2Qp8',\n   'author': 'Elon Musk',\n   'content': \"If you're trying to create a company, it's like baking a cake. You have to have all the ingredients in the right proportion.\",\n   'tags': ['business'],\n   'authorSlug': 'elon-musk',\n   'length': 124,\n   'dateAdded': '2022-07-06',\n   'dateModified': '2022-07-06'},\n  {'_id': 'boO8cxCyUZ',\n   'author': 'Sam Walton',\n   'content': 'There is only one boss. The customer. And he can fire everybody in the company from the chairman on down, simply by spending his money somewhere else.',\n   'tags': ['business'],\n   'authorSlug': 'sam-walton',\n   'length': 150,\n   'dateAdded': '2022-07-06',\n   'dateModified': '2022-07-06'},\n  {'_id': 'UN97SbNn3N',\n   'author': 'Ambrose Bierce',\n   'content': 'The gambling known as business looks with austere disfavor upon the business known as gambling.',\n   'tags': ['business'],\n   'authorSlug': 'ambrose-bierce',\n   'length': 95,\n   'dateAdded': '2022-07-06',\n   'dateModified': '2022-07-06'},\n  {'_id': 'SnxKyCAPxV',\n   'author': 'Tom Brokaw',\n   'content': \"It's easy to make a buck. It's a lot tougher to make a difference.\",\n   'tags': ['business'],\n   'authorSlug': 'tom-brokaw',\n   'length': 66,\n   'dateAdded': '2022-07-06',\n   'dateModified': '2022-07-06'},\n  {'_id': 'Aooogq1lu-',\n   'author': 'Theodore Isaac Rubin',\n   'content': 'Happiness does not come from doing easy work but from the afterglow of satisfaction that comes after the achievement of a difficult task that demanded our best.',\n   'tags': ['business'],\n   'authorSlug': 'theodore-isaac-rubin',\n   'length': 160,\n   'dateAdded': '2022-07-06',\n   'dateModified': '2022-07-06'},\n  {'_id': 'x1ekufax6w',\n   'author': 'Jeff Bezos',\n   'content': 'A brand for a company is like a reputation for a person. You earn reputation by trying to do hard things well.',\n   'tags': ['business'],\n   'authorSlug': 'jeff-bezos',\n   'length': 110,\n   'dateAdded': '2022-07-06',\n   'dateModified': '2022-07-06'},\n  {'_id': 'RiULc-0Ak0',\n   'author': 'Peter Drucker',\n   'content': 'The entrepreneur always searches for change, responds to it, and exploits it as an opportunity.',\n   'tags': ['business'],\n   'authorSlug': 'peter-drucker',\n   'length': 95,\n   'dateAdded': '2022-07-06',\n   'dateModified': '2022-07-06'},\n  {'_id': 'sBuAicwO4Z',\n   'author': 'Don Marquis',\n   'content': 'Ideas pull the trigger, but instinct loads the gun.',\n   'tags': ['business'],\n   'authorSlug': 'don-marquis',\n   'length': 51,\n   'dateAdded': '2022-07-06',\n   'dateModified': '2022-07-06'},\n  {'_id': 'E24zrX6RYt',\n   'author': 'Jack Welch',\n   'content': \"An organization's ability to learn, and translate that learning into action rapidly, is the ultimate competitive advantage.\",\n   'tags': ['business'],\n   'authorSlug': 'jack-welch',\n   'length': 123,\n   'dateAdded': '2022-07-06',\n   'dateModified': '2022-07-06'},\n  {'_id': 'u88FH0TrZCH',\n   'author': 'Thomas Jefferson',\n   'content': 'I hope we shall crush in its birth the aristocracy of our monied corporations which dare already to challenge our government to a trial by strength, and bid defiance to the laws of our country.',\n   'tags': ['business'],\n   'authorSlug': 'thomas-jefferson',\n   'length': 193,\n   'dateAdded': '2022-07-06',\n   'dateModified': '2022-07-06'},\n  {'_id': 'AsTEj2wakYQ',\n   'author': 'Napoleon Hill',\n   'content': 'Effort only fully releases its reward after a person refuses to quit.',\n   'tags': ['motivational'],\n   'authorSlug': 'napoleon-hill',\n   'length': 69,\n   'dateAdded': '2022-07-06',\n   'dateModified': '2022-07-08'},\n  {'_id': 'xic44lsEdNl',\n   'author': 'Henry Ford',\n   'content': 'A business that makes nothing but money is a poor business.',\n   'tags': ['business'],\n   'authorSlug': 'henry-ford',\n   'length': 59,\n   'dateAdded': '2022-07-06',\n   'dateModified': '2022-07-06'},\n  {'_id': 'yVlVhbeycw3',\n   'author': 'Aristotle Onassis',\n   'content': 'The secret of business is to know something that nobody else knows.',\n   'tags': ['business'],\n   'authorSlug': 'aristotle-onassis',\n   'length': 67,\n   'dateAdded': '2022-07-06',\n   'dateModified': '2022-07-06'},\n  {'_id': 'uGjjOxego4o',\n   'author': 'Charles F. Kettering',\n   'content': 'If you want to kill any idea in the world, get a committee working on it.',\n   'tags': ['business'],\n   'authorSlug': 'charles-f-kettering',\n   'length': 73,\n   'dateAdded': '2022-07-06',\n   'dateModified': '2022-07-06'},\n  {'_id': 'k1TVeBO_5Kh',\n   'author': 'Laurence J. Peter',\n   'content': \"An economist is an expert who will know tomorrow why the things he predicted yesterday didn't happen today.\",\n   'tags': ['business'],\n   'authorSlug': 'laurence-j-peter',\n   'length': 107,\n   'dateAdded': '2022-07-06',\n   'dateModified': '2022-07-06'},\n  {'_id': 'pNnzE7wpM0W',\n   'author': 'Dee Hock',\n   'content': 'An organization, no matter how well designed, is only as good as the people who live and work in it.',\n   'tags': ['business'],\n   'authorSlug': 'dee-hock',\n   'length': 100,\n   'dateAdded': '2022-07-06',\n   'dateModified': '2022-07-06'},\n  {'_id': 'URRx9XD8Lgg',\n   'author': 'Leo Rosten',\n   'content': 'First-rate people hire first-rate people; second-rate people hire third-rate people.',\n   'tags': ['business'],\n   'authorSlug': 'leo-rosten',\n   'length': 84,\n   'dateAdded': '2022-07-06',\n   'dateModified': '2022-07-06'},\n  {'_id': 'T-E-4pGn5i1',\n   'author': 'Olivier Messiaen',\n   'content': 'One of the tests of leadership is the ability to recognize a problem before it becomes an emergency.',\n   'tags': ['business'],\n   'authorSlug': 'olivier-messiaen',\n   'length': 100,\n   'dateAdded': '2022-07-06',\n   'dateModified': '2022-07-06'},\n  {'_id': 'nH5op9VWSA5',\n   'author': 'Confucius',\n   'content': 'The superior man understands what is right; the inferior man understands what will sell.',\n   'tags': ['business'],\n   'authorSlug': 'confucius',\n   'length': 88,\n   'dateAdded': '2022-07-06',\n   'dateModified': '2022-07-06'},\n  {'_id': 'hZ2TTJbNHgz',\n   'author': 'Mary Kay Ash',\n   'content': \"Everyone has an invisible sign hanging from their neck saying, 'Make me feel important.' Never forget this message when working with people.\",\n   'tags': ['business'],\n   'authorSlug': 'mary-kay-ash',\n   'length': 140,\n   'dateAdded': '2022-07-06',\n   'dateModified': '2022-07-06'},\n  {'_id': 'yq5LCWQjDJU',\n   'author': 'Niccolò Machiavelli',\n   'content': 'No enterprise is more likely to succeed than one concealed from the enemy until it is ripe for execution.',\n   'tags': ['business'],\n   'authorSlug': 'niccolo-machiavelli',\n   'length': 105,\n   'dateAdded': '2022-07-06',\n   'dateModified': '2022-07-06'},\n  {'_id': '2Ww5TB860z0',\n   'author': 'Harold Geneen',\n   'content': 'In the business world, everyone is paid in two coins: cash and experience. Take the experience first; the cash will come later.',\n   'tags': ['business'],\n   'authorSlug': 'harold-geneen',\n   'length': 127,\n   'dateAdded': '2022-07-06',\n   'dateModified': '2022-07-06'},\n  {'_id': 'NaR2ruD4l68',\n   'author': 'Robert Kiyosaki',\n   'content': 'When times are bad is when the real entrepreneurs emerge.',\n   'tags': ['business'],\n   'authorSlug': 'robert-kiyosaki',\n   'length': 57,\n   'dateAdded': '2022-07-06',\n   'dateModified': '2022-07-06'},\n  {'_id': 'E_uIJ03GjDQ',\n   'author': 'André Malraux',\n   'content': 'To command is to serve, nothing more and nothing less.',\n   'tags': ['business'],\n   'authorSlug': 'andre-malraux',\n   'length': 54,\n   'dateAdded': '2022-07-06',\n   'dateModified': '2022-07-06'},\n  {'_id': 'Zrxblk3MazL',\n   'author': 'John Kenneth Galbraith',\n   'content': \"Meetings are indispensable when you don't want to do anything.\",\n   'tags': ['business'],\n   'authorSlug': 'john-kenneth-galbraith',\n   'length': 62,\n   'dateAdded': '2022-07-06',\n   'dateModified': '2022-07-06'},\n  {'_id': 'py0SqUMHGW9',\n   'author': 'Howard H. Aiken',\n   'content': \"Don't worry about people stealing your ideas. If your ideas are any good, you'll have to ram them down people's throats.\",\n   'tags': ['business'],\n   'authorSlug': 'howard-h-aiken',\n   'length': 120,\n   'dateAdded': '2022-07-06',\n   'dateModified': '2022-07-06'},\n  {'_id': 'y1iv94PsONA',\n   'author': 'Edward Gibbon',\n   'content': 'Our work is the presentation of our capabilities.',\n   'tags': ['business'],\n   'authorSlug': 'edward-gibbon',\n   'length': 49,\n   'dateAdded': '2022-07-06',\n   'dateModified': '2022-07-06'},\n  {'_id': 'WPXF6M0Yn_Y',\n   'author': 'Warren Bennis',\n   'content': 'Trust is the lubrication that makes it possible for organizations to work.',\n   'tags': ['business'],\n   'authorSlug': 'warren-bennis',\n   'length': 74,\n   'dateAdded': '2022-07-06',\n   'dateModified': '2022-07-06'},\n  {'_id': 'EqK6-7vPt',\n   'author': 'Elon Musk',\n   'content': 'When something is important enough, you do it even if the odds are not in your favor.',\n   'tags': ['motivational'],\n   'authorSlug': 'elon-musk',\n   'length': 85,\n   'dateAdded': '2022-07-06',\n   'dateModified': '2022-07-06'},\n  {'_id': 'trKnEw-ZVY',\n   'author': 'Ralph Marston',\n   'content': 'What you do today can improve all your tomorrows.',\n   'tags': ['motivational'],\n   'authorSlug': 'ralph-marston',\n   'length': 49,\n   'dateAdded': '2022-07-06',\n   'dateModified': '2022-07-06'},\n  {'_id': 'f6PUk-AOBm',\n   'author': 'H. G. Wells',\n   'content': 'If you fell down yesterday, stand up today.',\n   'tags': ['motivational'],\n   'authorSlug': 'h-g-wells',\n   'length': 43,\n   'dateAdded': '2022-07-06',\n   'dateModified': '2022-07-06'},\n  {'_id': 'XH8yFMgx_o',\n   'author': 'George S. Patton',\n   'content': 'A good plan violently executed now is better than a perfect plan executed next week.',\n   'tags': ['motivational'],\n   'authorSlug': 'george-s-patton',\n   'length': 84,\n   'dateAdded': '2022-07-06',\n   'dateModified': '2022-07-06'},\n  {'_id': 'VdDvOzQUZ3',\n   'author': 'Ken Venturi',\n   'content': \"I don't believe you have to be better than everybody else. I believe you have to be better than you ever thought you could be.\",\n   'tags': ['motivational'],\n   'authorSlug': 'ken-venturi',\n   'length': 126,\n   'dateAdded': '2022-07-06',\n   'dateModified': '2022-07-06'},\n  {'_id': 'l4SIHYrQpX',\n   'author': 'Johann Wolfgang von Goethe',\n   'content': 'Knowing is not enough; we must apply. Willing is not enough; we must do.',\n   'tags': ['motivational'],\n   'authorSlug': 'johann-wolfgang-von-goethe',\n   'length': 72,\n   'dateAdded': '2022-07-06',\n   'dateModified': '2022-07-06'},\n  {'_id': '_WfHG0pIS0',\n   'author': 'W. Clement Stone',\n   'content': 'Aim for the moon. If you miss, you may hit a star.',\n   'tags': ['motivational'],\n   'authorSlug': 'w-clement-stone',\n   'length': 50,\n   'dateAdded': '2022-07-06',\n   'dateModified': '2022-07-06'},\n  {'_id': 'pbtIgsCUIU',\n   'author': 'Sam Levenson',\n   'content': \"Don't watch the clock; do what it does. Keep going.\",\n   'tags': ['motivational'],\n   'authorSlug': 'sam-levenson',\n   'length': 51,\n   'dateAdded': '2022-07-06',\n   'dateModified': '2022-07-06'},\n  {'_id': '1gJ03696_R',\n   'author': 'Benjamin Disraeli',\n   'content': 'Never complain and never explain.',\n   'tags': ['motivational'],\n   'authorSlug': 'benjamin-disraeli',\n   'length': 33,\n   'dateAdded': '2022-07-06',\n   'dateModified': '2022-07-06'},\n  {'_id': '8NJSVJipgn',\n   'author': 'Robert Schuller',\n   'content': 'Problems are not stop signs, they are guidelines.',\n   'tags': ['motivational'],\n   'authorSlug': 'robert-schuller',\n   'length': 49,\n   'dateAdded': '2022-07-06',\n   'dateModified': '2022-07-06'},\n  {'_id': 'FGh99twyFY',\n   'author': 'John F. Kennedy',\n   'content': 'Things do not happen. Things are made to happen.',\n   'tags': ['motivational'],\n   'authorSlug': 'john-f-kennedy',\n   'length': 48,\n   'dateAdded': '2022-07-06',\n   'dateModified': '2022-07-06'},\n  {'_id': 'OnbQeVfYGpZ',\n   'author': 'Amelia Earhart',\n   'content': 'The most effective way to do it, is to do it.',\n   'tags': ['motivational'],\n   'authorSlug': 'amelia-earhart',\n   'length': 45,\n   'dateAdded': '2022-07-06',\n   'dateModified': '2022-07-06'},\n  {'_id': 'IiQQfTSSTyc',\n   'author': 'Pauline Kael',\n   'content': 'Where there is a will, there is a way. If there is a chance in a million that you can do something, anything, to keep what you want from ending, do it. Pry the door open or, if need be, wedge your foot in that door and keep it open.',\n   'tags': ['motivational'],\n   'authorSlug': 'pauline-kael',\n   'length': 232,\n   'dateAdded': '2022-07-06',\n   'dateModified': '2022-07-06'},\n  {'_id': 'nYm8bumyc0E',\n   'author': 'Babe Ruth',\n   'content': \"You just can't beat the person who never gives up.\",\n   'tags': ['motivational'],\n   'authorSlug': 'babe-ruth',\n   'length': 50,\n   'dateAdded': '2022-07-06',\n   'dateModified': '2022-07-06'},\n  {'_id': 'udbaSw4hIey',\n   'author': 'Harriet Beecher Stowe',\n   'content': 'Never give up, for that is just the place and time that the tide will turn.',\n   'tags': ['motivational'],\n   'authorSlug': 'harriet-beecher-stowe',\n   'length': 75,\n   'dateAdded': '2022-07-06',\n   'dateModified': '2022-07-06'},\n  {'_id': 'qKv9nrdgS0M',\n   'author': 'Kyle Chandler',\n   'content': 'Opportunity does not knock, it presents itself when you beat down the door.',\n   'tags': ['motivational'],\n   'authorSlug': 'kyle-chandler',\n   'length': 75,\n   'dateAdded': '2022-07-06',\n   'dateModified': '2022-07-06'},\n  {'_id': '1mFyxKntETm',\n   'author': 'Ayn Rand',\n   'content': 'A creative man is motivated by the desire to achieve, not by the desire to beat others.',\n   'tags': ['motivational'],\n   'authorSlug': 'ayn-rand',\n   'length': 87,\n   'dateAdded': '2022-07-06',\n   'dateModified': '2022-07-06'},\n  {'_id': 'GtLeN2MCTvH',\n   'author': 'Nikos Kazantzakis',\n   'content': 'In order to succeed, we must first believe that we can.',\n   'tags': ['motivational'],\n   'authorSlug': 'nikos-kazantzakis',\n   'length': 55,\n   'dateAdded': '2022-07-06',\n   'dateModified': '2022-07-06'},\n  {'_id': 'eAwQS0LKTIk',\n   'author': 'William Blake',\n   'content': 'No bird soars too high if he soars with his own wings.',\n   'tags': ['motivational'],\n   'authorSlug': 'william-blake',\n   'length': 54,\n   'dateAdded': '2022-07-06',\n   'dateModified': '2022-07-06'},\n  {'_id': 'tLoJe82KV',\n   'author': 'Winston Churchill',\n   'content': 'Now this is not the end. It is not even the beginning of the end. But it is, perhaps, the end of the beginning.',\n   'tags': [],\n   'authorSlug': 'winston-churchill',\n   'length': 111,\n   'dateAdded': '2022-03-12',\n   'dateModified': '2022-03-12'},\n  {'_id': 'E9q7mXmEBV',\n   'author': 'Winston Churchill',\n   'content': \"If you're going through hell, keep going.\",\n   'tags': ['inspirational'],\n   'authorSlug': 'winston-churchill',\n   'length': 41,\n   'dateAdded': '2022-03-12',\n   'dateModified': '2022-03-12'},\n  {'_id': 'yijmC07Cyu',\n   'author': 'Winston Churchill',\n   'content': 'To improve is to change; to be perfect is to change often.',\n   'tags': ['inspirational', 'success'],\n   'authorSlug': 'winston-churchill',\n   'length': 58,\n   'dateAdded': '2022-03-12',\n   'dateModified': '2022-03-12'},\n  {'_id': '-gl-mVVo7R',\n   'author': 'Winston Churchill',\n   'content': 'The best argument against democracy is a five-minute conversation with the average voter.',\n   'tags': ['humor', 'politics'],\n   'authorSlug': 'winston-churchill',\n   'length': 89,\n   'dateAdded': '2022-03-12',\n   'dateModified': '2022-03-12'},\n  {'_id': 'ueNZohx2Vo',\n   'author': 'Winston Churchill',\n   'content': 'Attitude is a little thing that makes a big difference.',\n   'tags': [],\n   'authorSlug': 'winston-churchill',\n   'length': 55,\n   'dateAdded': '2022-03-12',\n   'dateModified': '2022-03-12'},\n  {'_id': 'P1qpVayN1l',\n   'author': 'Winston Churchill',\n   'content': 'A lie gets halfway around the world before the truth has a chance to get its pants on.',\n   'tags': ['history', 'politics', 'wisdom'],\n   'authorSlug': 'winston-churchill',\n   'length': 86,\n   'dateAdded': '2022-03-12',\n   'dateModified': '2022-03-12'},\n  {'_id': 'bwLNaDverO',\n   'author': 'Winston Churchill',\n   'content': 'I am fond of pigs. Dogs look up to us. Cats look down on us. Pigs treat us as equals.',\n   'tags': ['humor', 'famous-quotes'],\n   'authorSlug': 'winston-churchill',\n   'length': 85,\n   'dateAdded': '2022-03-12',\n   'dateModified': '2022-03-12'},\n  {'_id': 'aMbVRktKAJ',\n   'author': 'Winston Churchill',\n   'content': 'Success consists of going from failure to failure without loss of enthusiasm.',\n   'tags': ['success'],\n   'authorSlug': 'winston-churchill',\n   'length': 77,\n   'dateAdded': '2022-03-12',\n   'dateModified': '2022-07-04'},\n  {'_id': 'UfqGrLbrPp',\n   'author': 'Winston Churchill',\n   'content': \"You can always count on Americans to do the right thing - after they've tried everything else.\",\n   'tags': ['humor', 'politics'],\n   'authorSlug': 'winston-churchill',\n   'length': 94,\n   'dateAdded': '2022-03-12',\n   'dateModified': '2022-03-12'},\n  {'_id': '4q4z3dyDhu',\n   'author': 'Winston Churchill',\n   'content': 'The truth is incontrovertible. Malice may attack it, ignorance may deride it, but in the end, there it is.',\n   'tags': ['truth', 'history'],\n   'authorSlug': 'winston-churchill',\n   'length': 106,\n   'dateAdded': '2022-03-12',\n   'dateModified': '2022-03-12'},\n  {'_id': 'JZm3q3illA',\n   'author': 'Winston Churchill',\n   'content': 'All the great things are simple, and many can be expressed in a single word: freedom, justice, honor, duty, mercy, hope.',\n   'tags': ['social-justice', 'freedom', 'history'],\n   'authorSlug': 'winston-churchill',\n   'length': 120,\n   'dateAdded': '2022-03-12',\n   'dateModified': '2022-03-12'},\n  {'_id': 'DgPQoKY7nq',\n   'author': 'Winston Churchill',\n   'content': 'History is written by the victors.',\n   'tags': ['history'],\n   'authorSlug': 'winston-churchill',\n   'length': 34,\n   'dateAdded': '2022-03-12',\n   'dateModified': '2022-03-12'},\n  {'_id': 'H6E3mARTba',\n   'author': 'Winston Churchill',\n   'content': 'The farther backward you can look, the farther forward you can see.',\n   'tags': ['history'],\n   'authorSlug': 'winston-churchill',\n   'length': 67,\n   'dateAdded': '2022-03-12',\n   'dateModified': '2022-03-12'},\n  {'_id': 'VFuYWRR2yM',\n   'author': 'Winston Churchill',\n   'content': 'I am an optimist. It does not seem too much use being anything else.',\n   'tags': [],\n   'authorSlug': 'winston-churchill',\n   'length': 68,\n   'dateAdded': '2022-03-12',\n   'dateModified': '2022-03-12'},\n  {'_id': 'J2YAEeD2ky',\n   'author': 'Winston Churchill',\n   'content': \"It is no use saying, 'We are doing our best.' You have got to succeed in doing what is necessary.\",\n   'tags': ['inspirational', 'success'],\n   'authorSlug': 'winston-churchill',\n   'length': 97,\n   'dateAdded': '2022-03-12',\n   'dateModified': '2022-03-12'},\n  {'_id': 'e0mfNS8FEa',\n   'author': 'Winston Churchill',\n   'content': 'Russia is a riddle wrapped in a mystery inside an enigma.',\n   'tags': ['history', 'politics'],\n   'authorSlug': 'winston-churchill',\n   'length': 57,\n   'dateAdded': '2022-03-12',\n   'dateModified': '2022-03-12'}]}"
     },
     "execution_count": 76,
     "metadata": {},
     "output_type": "execute_result"
    }
   ],
   "source": [
    "response.json()"
   ],
   "metadata": {
    "collapsed": false,
    "pycharm": {
     "name": "#%%\n"
    }
   }
  },
  {
   "cell_type": "code",
   "execution_count": 77,
   "outputs": [],
   "source": [
    "r = response.json()"
   ],
   "metadata": {
    "collapsed": false,
    "pycharm": {
     "name": "#%%\n"
    }
   }
  },
  {
   "cell_type": "code",
   "execution_count": 78,
   "outputs": [],
   "source": [
    "our_data = pd.DataFrame(r['results'], columns=['author', 'content'])"
   ],
   "metadata": {
    "collapsed": false,
    "pycharm": {
     "name": "#%%\n"
    }
   }
  },
  {
   "cell_type": "code",
   "execution_count": 79,
   "outputs": [],
   "source": [
    "our_data[['quote', 'author']] = our_data[['content', 'author']]"
   ],
   "metadata": {
    "collapsed": false,
    "pycharm": {
     "name": "#%%\n"
    }
   }
  },
  {
   "cell_type": "code",
   "execution_count": 80,
   "outputs": [],
   "source": [
    "our_data = our_data.drop('content', axis=1)"
   ],
   "metadata": {
    "collapsed": false,
    "pycharm": {
     "name": "#%%\n"
    }
   }
  },
  {
   "cell_type": "code",
   "execution_count": 81,
   "outputs": [
    {
     "data": {
      "text/plain": "                  author                                              quote\n0         Michael Jordan  I've missed more than 9000 shots in my career....\n1    Henry David Thoreau  Many men go fishing all of their lives without...\n2         Vince Lombardi         Winners never quit and quitters never win.\n3              Babe Ruth  The way a team plays as a whole determines its...\n4             Bob Feller  Every day is a new opportunity. You can build ...\n..                   ...                                                ...\n105    Winston Churchill                 History is written by the victors.\n106    Winston Churchill  The farther backward you can look, the farther...\n107    Winston Churchill  I am an optimist. It does not seem too much us...\n108    Winston Churchill  It is no use saying, 'We are doing our best.' ...\n109    Winston Churchill  Russia is a riddle wrapped in a mystery inside...\n\n[110 rows x 2 columns]",
      "text/html": "<div>\n<style scoped>\n    .dataframe tbody tr th:only-of-type {\n        vertical-align: middle;\n    }\n\n    .dataframe tbody tr th {\n        vertical-align: top;\n    }\n\n    .dataframe thead th {\n        text-align: right;\n    }\n</style>\n<table border=\"1\" class=\"dataframe\">\n  <thead>\n    <tr style=\"text-align: right;\">\n      <th></th>\n      <th>author</th>\n      <th>quote</th>\n    </tr>\n  </thead>\n  <tbody>\n    <tr>\n      <th>0</th>\n      <td>Michael Jordan</td>\n      <td>I've missed more than 9000 shots in my career....</td>\n    </tr>\n    <tr>\n      <th>1</th>\n      <td>Henry David Thoreau</td>\n      <td>Many men go fishing all of their lives without...</td>\n    </tr>\n    <tr>\n      <th>2</th>\n      <td>Vince Lombardi</td>\n      <td>Winners never quit and quitters never win.</td>\n    </tr>\n    <tr>\n      <th>3</th>\n      <td>Babe Ruth</td>\n      <td>The way a team plays as a whole determines its...</td>\n    </tr>\n    <tr>\n      <th>4</th>\n      <td>Bob Feller</td>\n      <td>Every day is a new opportunity. You can build ...</td>\n    </tr>\n    <tr>\n      <th>...</th>\n      <td>...</td>\n      <td>...</td>\n    </tr>\n    <tr>\n      <th>105</th>\n      <td>Winston Churchill</td>\n      <td>History is written by the victors.</td>\n    </tr>\n    <tr>\n      <th>106</th>\n      <td>Winston Churchill</td>\n      <td>The farther backward you can look, the farther...</td>\n    </tr>\n    <tr>\n      <th>107</th>\n      <td>Winston Churchill</td>\n      <td>I am an optimist. It does not seem too much us...</td>\n    </tr>\n    <tr>\n      <th>108</th>\n      <td>Winston Churchill</td>\n      <td>It is no use saying, 'We are doing our best.' ...</td>\n    </tr>\n    <tr>\n      <th>109</th>\n      <td>Winston Churchill</td>\n      <td>Russia is a riddle wrapped in a mystery inside...</td>\n    </tr>\n  </tbody>\n</table>\n<p>110 rows × 2 columns</p>\n</div>"
     },
     "execution_count": 81,
     "metadata": {},
     "output_type": "execute_result"
    }
   ],
   "source": [
    "our_data"
   ],
   "metadata": {
    "collapsed": false,
    "pycharm": {
     "name": "#%%\n"
    }
   }
  },
  {
   "cell_type": "code",
   "execution_count": 93,
   "outputs": [
    {
     "data": {
      "text/plain": "           author                                              quote  \\\n20  Casey Stengel  Finding good players is easy. Getting them to ...   \n\n    sentiment_score  index  \n20            0.802    103  ",
      "text/html": "<div>\n<style scoped>\n    .dataframe tbody tr th:only-of-type {\n        vertical-align: middle;\n    }\n\n    .dataframe tbody tr th {\n        vertical-align: top;\n    }\n\n    .dataframe thead th {\n        text-align: right;\n    }\n</style>\n<table border=\"1\" class=\"dataframe\">\n  <thead>\n    <tr style=\"text-align: right;\">\n      <th></th>\n      <th>author</th>\n      <th>quote</th>\n      <th>sentiment_score</th>\n      <th>index</th>\n    </tr>\n  </thead>\n  <tbody>\n    <tr>\n      <th>20</th>\n      <td>Casey Stengel</td>\n      <td>Finding good players is easy. Getting them to ...</td>\n      <td>0.802</td>\n      <td>103</td>\n    </tr>\n  </tbody>\n</table>\n</div>"
     },
     "execution_count": 93,
     "metadata": {},
     "output_type": "execute_result"
    }
   ],
   "source": [
    "\n",
    "\n",
    "\n",
    "# declare global variable\n",
    "quotes = None\n",
    "\n",
    "def prepare_sentiment_quote_stash(quote_stash_path):\n",
    "    global quotes\n",
    "\n",
    "    response = requests.get(\"https://api.quotable.io/quotes?limit=110&maxLength=262\")\n",
    "    r = response.json()\n",
    "    our_data = pd.DataFrame(r['results'], columns=['author', 'content'])\n",
    "    our_data[['quote', 'author']] = our_data[['content', 'author']]\n",
    "    our_data = our_data.drop('content', axis=1)\n",
    "\n",
    "    # load the quote stash\n",
    "    quotes = our_data\n",
    "\n",
    "    sid = SentimentIntensityAnalyzer()\n",
    "\n",
    "    all_compounds = []\n",
    "    for sentence in quotes['quote']:\n",
    "        ss = sid.polarity_scores(sentence)\n",
    "        for k in sorted(ss):\n",
    "            if k == 'compound':\n",
    "                all_compounds.append(ss[k])\n",
    "\n",
    "\n",
    "    # add sentiment to the data\n",
    "    quotes['sentiment_score'] = all_compounds\n",
    "\n",
    "    # create ladder index\n",
    "    quotes = quotes.sort_values('sentiment_score')\n",
    "    quotes['index'] = [ix for ix in range(0, len(quotes))]\n",
    "\n",
    "    return quotes\n",
    "\n",
    "\n",
    "# load the quote stash\n",
    "quotes = prepare_sentiment_quote_stash('quotes.csv')\n",
    "\n",
    "# sest max quote index value\n",
    "max_index_value = np.max(quotes['index'].values)\n",
    "\n",
    "def gimme_a_quote(direction = None, current_index = None):\n",
    "    rand_index = randrange(max_index_value)\n",
    "    darker = None\n",
    "    brighter = None\n",
    "\n",
    "\n",
    "    # New session visit\n",
    "    if current_index is None:\n",
    "        brighter = rand_index\n",
    "\n",
    "    if direction == 'brighter':\n",
    "        brighter = current_index\n",
    "    else:\n",
    "        darker = current_index\n",
    "\n",
    "    if darker is not None:\n",
    "        current_index = rand_index\n",
    "\n",
    "        try:\n",
    "            current_index = int(darker)\n",
    "        except ValueError:\n",
    "            # somebody is gaming the system\n",
    "            current_index = rand_index\n",
    "\n",
    "\n",
    "        if current_index > 0:\n",
    "            # try for a lesser value than current one\n",
    "            rand_index = randrange(0, current_index)\n",
    "        else:\n",
    "            # already at lowest point so assign a new random of full set\n",
    "            rand_index = rand_index\n",
    "\n",
    "\n",
    "    elif brighter is not None:\n",
    "\n",
    "        try:\n",
    "            current_index = int(brighter)\n",
    "        except ValueError:\n",
    "            # somebody is gaming the system\n",
    "            current_index = rand_index\n",
    "\n",
    "        # try for a higher value than current one\n",
    "        if current_index < max_index_value -1:\n",
    "            rand_index = randrange(current_index, max_index_value)\n",
    "        else:\n",
    "            # already at highest point so assign a new random of full set\n",
    "            rand_index = rand_index\n",
    "    else:\n",
    "        # grab a random value\n",
    "        rand_index = rand_index\n",
    "\n",
    "    return (rand_index)\n",
    "\n",
    "\n",
    "quote_number = gimme_a_quote('brighter', 20)\n",
    "quotes[quotes['index'] == gimme_a_quote('brighter', quote_number) ]"
   ],
   "metadata": {
    "collapsed": false,
    "pycharm": {
     "name": "#%%\n"
    }
   }
  },
  {
   "cell_type": "code",
   "execution_count": null,
   "outputs": [],
   "source": [],
   "metadata": {
    "collapsed": false,
    "pycharm": {
     "name": "#%%\n"
    }
   }
  }
 ],
 "metadata": {
  "kernelspec": {
   "display_name": "Python 3",
   "language": "python",
   "name": "python3"
  },
  "language_info": {
   "codemirror_mode": {
    "name": "ipython",
    "version": 2
   },
   "file_extension": ".py",
   "mimetype": "text/x-python",
   "name": "python",
   "nbconvert_exporter": "python",
   "pygments_lexer": "ipython2",
   "version": "2.7.6"
  }
 },
 "nbformat": 4,
 "nbformat_minor": 0
}